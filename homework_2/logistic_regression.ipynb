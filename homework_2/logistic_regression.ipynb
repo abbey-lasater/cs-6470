{
 "cells": [
  {
   "cell_type": "markdown",
   "id": "b5646fa9",
   "metadata": {},
   "source": [
    "In this assignment, you will implement a logistic regression model from scratch for binary classification."
   ]
  },
  {
   "cell_type": "markdown",
   "id": "d1e82ac0",
   "metadata": {},
   "source": [
    "Libraries"
   ]
  },
  {
   "cell_type": "code",
   "execution_count": 226,
   "id": "f9b3602b",
   "metadata": {},
   "outputs": [],
   "source": [
    "import pandas as pd\n",
    "import numpy as np\n",
    "from abc import ABC, abstractmethod \n",
    "from sklearn.linear_model import LogisticRegression\n",
    "from sklearn.preprocessing import StandardScaler\n",
    "import time\n",
    "import math\n",
    "\n",
    "from sklearn.model_selection import train_test_split\n",
    "\n",
    "from sklearn.metrics import confusion_matrix, accuracy_score, precision_score, recall_score, roc_curve, auc, log_loss\n",
    "import matplotlib.pyplot as plt\n",
    "\n",
    "\n",
    "from sklearn.datasets import load_wine"
   ]
  },
  {
   "cell_type": "markdown",
   "id": "26e3371f",
   "metadata": {},
   "source": [
    "Pulling Data Set In"
   ]
  },
  {
   "cell_type": "code",
   "execution_count": 227,
   "id": "46850e5d",
   "metadata": {},
   "outputs": [],
   "source": [
    "# loading wine data in from sklearn datasets\n",
    "wine = load_wine()\n",
    "\n",
    "# converting data into pandas df, only including feature columns\n",
    "df = pd.DataFrame(wine.data, columns=wine.feature_names)"
   ]
  },
  {
   "cell_type": "markdown",
   "id": "31cc0b13",
   "metadata": {},
   "source": [
    "Data Prep"
   ]
  },
  {
   "cell_type": "code",
   "execution_count": 228,
   "id": "1b0d5016",
   "metadata": {},
   "outputs": [
    {
     "data": {
      "text/html": [
       "<div>\n",
       "<style scoped>\n",
       "    .dataframe tbody tr th:only-of-type {\n",
       "        vertical-align: middle;\n",
       "    }\n",
       "\n",
       "    .dataframe tbody tr th {\n",
       "        vertical-align: top;\n",
       "    }\n",
       "\n",
       "    .dataframe thead th {\n",
       "        text-align: right;\n",
       "    }\n",
       "</style>\n",
       "<table border=\"1\" class=\"dataframe\">\n",
       "  <thead>\n",
       "    <tr style=\"text-align: right;\">\n",
       "      <th></th>\n",
       "      <th>alcohol</th>\n",
       "      <th>malic_acid</th>\n",
       "      <th>ash</th>\n",
       "      <th>alcalinity_of_ash</th>\n",
       "      <th>magnesium</th>\n",
       "      <th>total_phenols</th>\n",
       "      <th>flavanoids</th>\n",
       "      <th>nonflavanoid_phenols</th>\n",
       "      <th>proanthocyanins</th>\n",
       "      <th>color_intensity</th>\n",
       "      <th>hue</th>\n",
       "      <th>od280/od315_of_diluted_wines</th>\n",
       "      <th>proline</th>\n",
       "      <th>target</th>\n",
       "    </tr>\n",
       "  </thead>\n",
       "  <tbody>\n",
       "    <tr>\n",
       "      <th>0</th>\n",
       "      <td>14.23</td>\n",
       "      <td>1.71</td>\n",
       "      <td>2.43</td>\n",
       "      <td>15.6</td>\n",
       "      <td>127.0</td>\n",
       "      <td>2.80</td>\n",
       "      <td>3.06</td>\n",
       "      <td>0.28</td>\n",
       "      <td>2.29</td>\n",
       "      <td>5.64</td>\n",
       "      <td>1.04</td>\n",
       "      <td>3.92</td>\n",
       "      <td>1065.0</td>\n",
       "      <td>0</td>\n",
       "    </tr>\n",
       "    <tr>\n",
       "      <th>1</th>\n",
       "      <td>13.20</td>\n",
       "      <td>1.78</td>\n",
       "      <td>2.14</td>\n",
       "      <td>11.2</td>\n",
       "      <td>100.0</td>\n",
       "      <td>2.65</td>\n",
       "      <td>2.76</td>\n",
       "      <td>0.26</td>\n",
       "      <td>1.28</td>\n",
       "      <td>4.38</td>\n",
       "      <td>1.05</td>\n",
       "      <td>3.40</td>\n",
       "      <td>1050.0</td>\n",
       "      <td>0</td>\n",
       "    </tr>\n",
       "    <tr>\n",
       "      <th>2</th>\n",
       "      <td>13.16</td>\n",
       "      <td>2.36</td>\n",
       "      <td>2.67</td>\n",
       "      <td>18.6</td>\n",
       "      <td>101.0</td>\n",
       "      <td>2.80</td>\n",
       "      <td>3.24</td>\n",
       "      <td>0.30</td>\n",
       "      <td>2.81</td>\n",
       "      <td>5.68</td>\n",
       "      <td>1.03</td>\n",
       "      <td>3.17</td>\n",
       "      <td>1185.0</td>\n",
       "      <td>0</td>\n",
       "    </tr>\n",
       "    <tr>\n",
       "      <th>3</th>\n",
       "      <td>14.37</td>\n",
       "      <td>1.95</td>\n",
       "      <td>2.50</td>\n",
       "      <td>16.8</td>\n",
       "      <td>113.0</td>\n",
       "      <td>3.85</td>\n",
       "      <td>3.49</td>\n",
       "      <td>0.24</td>\n",
       "      <td>2.18</td>\n",
       "      <td>7.80</td>\n",
       "      <td>0.86</td>\n",
       "      <td>3.45</td>\n",
       "      <td>1480.0</td>\n",
       "      <td>0</td>\n",
       "    </tr>\n",
       "    <tr>\n",
       "      <th>4</th>\n",
       "      <td>13.24</td>\n",
       "      <td>2.59</td>\n",
       "      <td>2.87</td>\n",
       "      <td>21.0</td>\n",
       "      <td>118.0</td>\n",
       "      <td>2.80</td>\n",
       "      <td>2.69</td>\n",
       "      <td>0.39</td>\n",
       "      <td>1.82</td>\n",
       "      <td>4.32</td>\n",
       "      <td>1.04</td>\n",
       "      <td>2.93</td>\n",
       "      <td>735.0</td>\n",
       "      <td>0</td>\n",
       "    </tr>\n",
       "  </tbody>\n",
       "</table>\n",
       "</div>"
      ],
      "text/plain": [
       "   alcohol  malic_acid   ash  alcalinity_of_ash  magnesium  total_phenols  \\\n",
       "0    14.23        1.71  2.43               15.6      127.0           2.80   \n",
       "1    13.20        1.78  2.14               11.2      100.0           2.65   \n",
       "2    13.16        2.36  2.67               18.6      101.0           2.80   \n",
       "3    14.37        1.95  2.50               16.8      113.0           3.85   \n",
       "4    13.24        2.59  2.87               21.0      118.0           2.80   \n",
       "\n",
       "   flavanoids  nonflavanoid_phenols  proanthocyanins  color_intensity   hue  \\\n",
       "0        3.06                  0.28             2.29             5.64  1.04   \n",
       "1        2.76                  0.26             1.28             4.38  1.05   \n",
       "2        3.24                  0.30             2.81             5.68  1.03   \n",
       "3        3.49                  0.24             2.18             7.80  0.86   \n",
       "4        2.69                  0.39             1.82             4.32  1.04   \n",
       "\n",
       "   od280/od315_of_diluted_wines  proline  target  \n",
       "0                          3.92   1065.0       0  \n",
       "1                          3.40   1050.0       0  \n",
       "2                          3.17   1185.0       0  \n",
       "3                          3.45   1480.0       0  \n",
       "4                          2.93    735.0       0  "
      ]
     },
     "execution_count": 228,
     "metadata": {},
     "output_type": "execute_result"
    }
   ],
   "source": [
    "# creating target variable\n",
    "df['target'] = wine.target\n",
    "\n",
    "# filtering to only include classes 0 and 1 for binary classification\n",
    "df_binary = df[df['target'].isin([0, 1])]\n",
    "\n",
    "df_binary.head()\n"
   ]
  },
  {
   "cell_type": "code",
   "execution_count": 229,
   "id": "66b74ca1",
   "metadata": {},
   "outputs": [],
   "source": [
    "# getting columns names in list\n",
    "columns=wine.feature_names\n",
    "\n",
    "# feature values\n",
    "X = df_binary[columns].values\n",
    "\n",
    "# target value\n",
    "y = df_binary[\"target\"].values"
   ]
  },
  {
   "cell_type": "code",
   "execution_count": 230,
   "id": "56d0b21a",
   "metadata": {},
   "outputs": [],
   "source": [
    "X_train, X_test, y_train, y_test = train_test_split(\n",
    "    X, y, test_size=0.2, random_state=42, stratify=y\n",
    ")"
   ]
  },
  {
   "cell_type": "code",
   "execution_count": 231,
   "id": "1ea863c6",
   "metadata": {},
   "outputs": [],
   "source": [
    "# initiaing list to store performance metrics\n",
    "performance_metrics = []"
   ]
  },
  {
   "cell_type": "markdown",
   "id": "38656506",
   "metadata": {},
   "source": [
    "Base Class"
   ]
  },
  {
   "cell_type": "code",
   "execution_count": 232,
   "id": "b0a691eb",
   "metadata": {},
   "outputs": [],
   "source": [
    "class Model(ABC):\n",
    "    @abstractmethod\n",
    "    def fit(self, X, y):\n",
    "        pass\n",
    "    @abstractmethod\n",
    "    def predict(self, X):\n",
    "        pass\n",
    "    @abstractmethod\n",
    "    def cost_function(self, y_true, y_pred, eps=1e-15):\n",
    "        pass"
   ]
  },
  {
   "cell_type": "markdown",
   "id": "090703bd",
   "metadata": {},
   "source": [
    "log regression"
   ]
  },
  {
   "cell_type": "code",
   "execution_count": 233,
   "id": "6350e7f8",
   "metadata": {},
   "outputs": [],
   "source": [
    "class LogisticRegressionManual(Model):\n",
    "    def __init__(self, lr, epochs, fit_intercept=True):\n",
    "        # Initialize coefficients (weights for features) as None\n",
    "        self.coef_ = None\n",
    "        # Initialize intercept (bias term) to 0\n",
    "        self.intercept_ = 0.0\n",
    "        # Whether to include an intercept in predictions\n",
    "        self.fit_intercept = fit_intercept\n",
    "        # Learning rate for gradient descent\n",
    "        self.lr = lr\n",
    "        # Number of iterations for training\n",
    "        self.epochs = epochs\n",
    "    \n",
    "    def sigmoid(self, z):\n",
    "        # Sigmoid function to map any real value to (0, 1) if y > .5, 1 else 0\n",
    "        # z is linear combination of features and weights\n",
    "        return 1 / (1 + np.exp(-z))\n",
    "    \n",
    "    def fit(self, X, y):\n",
    "        #vectorize\n",
    "        X = np.array(X)\n",
    "        y = np.array(y)\n",
    "\n",
    "        # Number of samples and features\n",
    "        n_samples, n_features = X.shape\n",
    "\n",
    "        # Initialize coefficients (weights) to zeros\n",
    "        self.coef_ = np.zeros(n_features)\n",
    "        self.intercept_ = 0.0\n",
    "\n",
    "        # Gradient descent for specified number of epochs\n",
    "        for _ in range(self.epochs):\n",
    "            # Linear model: weighted sum of inputs plus intercept\n",
    "            # z = X * weights + intercept\n",
    "            linear_model = np.dot(X, self.coef_) + self.intercept_\n",
    "            # Apply sigmoid to convert linear scores to predicted probabilities\n",
    "            y_predicted = self.sigmoid(linear_model)\n",
    "\n",
    "            # Compute gradients for weights and intercept -- 1/m * X.T * (y_pred - y)\n",
    "            # greadient wrt to weights\n",
    "            dw = (1 / n_samples) * np.dot(X.T, (y_predicted - y))\n",
    "            # gradient wrt to intercept\n",
    "            db = (1 / n_samples) * np.sum(y_predicted - y)\n",
    "\n",
    "            # Update weights and intercept using gradients (opposite dir of gradient) and learning rate\n",
    "            self.coef_ -= self.lr * dw\n",
    "            self.intercept_ -= self.lr * db\n",
    "    \n",
    "    def predict_proba(self, X):\n",
    "        # predict probabilities using learned coefficients and intercept, returns 0<val<1\n",
    "        linear_model = np.dot(X, self.coef_) + self.intercept_\n",
    "        return self.sigmoid(linear_model)\n",
    "\n",
    "    def predict(self, X, threshold=.5):\n",
    "        # probabilities to get predicted classes 0 or 1 based on threshold\n",
    "        # if prob > threshold, class 1 else class 0\n",
    "        # default threshold is .5\n",
    "        y_predicted_probs = self.predict_proba(X)\n",
    "        return np.where(y_predicted_probs >= threshold, 1, 0)\n",
    "    \n",
    "    def cost_function(self, y_true, y_pred, eps=1e-15):\n",
    "        n = len(y_true)\n",
    "        total_loss = 0.0\n",
    "        for yt, yp in zip(y_true, y_pred):\n",
    "            # Clamp predicted probability to avoid log(0)\n",
    "            yp = min(max(yp, eps), 1 - eps)\n",
    "\n",
    "            # Correct log loss formula\n",
    "            total_loss += yt * math.log(yp) + (1 - yt) * math.log(1 - yp)\n",
    "\n",
    "        return -total_loss / n\n",
    "     "
   ]
  },
  {
   "cell_type": "markdown",
   "id": "522a044d",
   "metadata": {},
   "source": [
    "applying logistric regression class"
   ]
  },
  {
   "cell_type": "code",
   "execution_count": 234,
   "id": "010896e7",
   "metadata": {},
   "outputs": [
    {
     "name": "stderr",
     "output_type": "stream",
     "text": [
      "/var/folders/qb/_bb76w111b9b_z80kl4xl2fc0000gp/T/ipykernel_62611/408253085.py:17: RuntimeWarning: overflow encountered in exp\n",
      "  return 1 / (1 + np.exp(-z))\n"
     ]
    }
   ],
   "source": [
    "# Logistic Regression\n",
    "log_reg = LogisticRegressionManual(\n",
    "    lr = .05, \n",
    "    epochs = 1000, \n",
    "    fit_intercept=True\n",
    ")\n",
    "\n",
    "#starting timer\n",
    "start = time.time()\n",
    "\n",
    "#fitting model\n",
    "log_reg.fit(X_train, y_train)\n",
    "\n",
    "#ending timer\n",
    "end = time.time()\n",
    "\n",
    "#predicting target variable\n",
    "y_pred_gd = log_reg.predict(X_test)\n",
    "\n",
    "y_pred_probabilites = log_reg.predict_proba(X_test)\n",
    "\n",
    "#appending perf metrics for model intno perf metric list\n",
    "performance_metrics.append(\n",
    "    {\n",
    "        \"Model\": \"Logistic Regression\",\n",
    "        \"Intercept\": log_reg.intercept_,\n",
    "        \"Coefficients\": log_reg.coef_,\n",
    "        \"Fit Time\": end - start,\n",
    "        \"Log Loss\": log_reg.cost_function(y_test, y_pred_probabilites)\n",
    "    }\n",
    ")"
   ]
  },
  {
   "cell_type": "markdown",
   "id": "2e9b936d",
   "metadata": {},
   "source": [
    "Sklearn"
   ]
  },
  {
   "cell_type": "code",
   "execution_count": 235,
   "id": "6d866531",
   "metadata": {},
   "outputs": [],
   "source": [
    "# Scikit-learn Logistic Regression\n",
    "clf = LogisticRegression(\n",
    "    fit_intercept=True, \n",
    "    random_state=0, \n",
    "    max_iter=1000\n",
    ")\n",
    "\n",
    "# Start timer\n",
    "start = time.time()\n",
    "\n",
    "# Fit on training set\n",
    "clf.fit(X_train, y_train)\n",
    "\n",
    "# End timer\n",
    "end = time.time()\n",
    "\n",
    "# Predictions (on test set)\n",
    "y_pred_clf = clf.predict(X_test)\n",
    "\n",
    "# Predicted probabilities (on test set)\n",
    "y_pred_prob_clf = clf.predict_proba(X_test)\n",
    "\n",
    "# Append performance metrics\n",
    "performance_metrics.append(\n",
    "    {\n",
    "        \"Model\": \"Logistic Regression (Scikit-learn)\",\n",
    "        \"Intercept\": clf.intercept_.tolist(),\n",
    "        \"Coefficients\": clf.coef_.flatten().tolist(),\n",
    "        \"Log Loss\": log_loss(y_test, y_pred_prob_clf),\n",
    "        \"Fit Time\": end - start\n",
    "    }\n",
    ")\n"
   ]
  },
  {
   "cell_type": "code",
   "execution_count": 236,
   "id": "2ce46289",
   "metadata": {},
   "outputs": [
    {
     "name": "stdout",
     "output_type": "stream",
     "text": [
      "                                Model             Intercept  \\\n",
      "0                 Logistic Regression              1.879101   \n",
      "1  Logistic Regression (Scikit-learn)  [27.420063610983245]   \n",
      "\n",
      "                                        Coefficients  Fit Time  Log Loss  \n",
      "0  [17.55597877856017, 0.06572462854396002, 3.044...  0.015363  1.328445  \n",
      "1  [-0.9485662786995305, -1.026466521788334, -0.8...  0.038945  0.021394  \n"
     ]
    },
    {
     "data": {
      "text/html": [
       "<div>\n",
       "<style scoped>\n",
       "    .dataframe tbody tr th:only-of-type {\n",
       "        vertical-align: middle;\n",
       "    }\n",
       "\n",
       "    .dataframe tbody tr th {\n",
       "        vertical-align: top;\n",
       "    }\n",
       "\n",
       "    .dataframe thead th {\n",
       "        text-align: right;\n",
       "    }\n",
       "</style>\n",
       "<table border=\"1\" class=\"dataframe\">\n",
       "  <thead>\n",
       "    <tr style=\"text-align: right;\">\n",
       "      <th></th>\n",
       "      <th>Model</th>\n",
       "      <th>Intercept</th>\n",
       "      <th>Coefficients</th>\n",
       "      <th>Fit Time</th>\n",
       "      <th>Log Loss</th>\n",
       "    </tr>\n",
       "  </thead>\n",
       "  <tbody>\n",
       "    <tr>\n",
       "      <th>0</th>\n",
       "      <td>Logistic Regression</td>\n",
       "      <td>1.879101</td>\n",
       "      <td>[17.55597877856017, 0.06572462854396002, 3.044...</td>\n",
       "      <td>0.015363</td>\n",
       "      <td>1.328445</td>\n",
       "    </tr>\n",
       "    <tr>\n",
       "      <th>1</th>\n",
       "      <td>Logistic Regression (Scikit-learn)</td>\n",
       "      <td>[27.420063610983245]</td>\n",
       "      <td>[-0.9485662786995305, -1.026466521788334, -0.8...</td>\n",
       "      <td>0.038945</td>\n",
       "      <td>0.021394</td>\n",
       "    </tr>\n",
       "  </tbody>\n",
       "</table>\n",
       "</div>"
      ],
      "text/plain": [
       "                                Model             Intercept  \\\n",
       "0                 Logistic Regression              1.879101   \n",
       "1  Logistic Regression (Scikit-learn)  [27.420063610983245]   \n",
       "\n",
       "                                        Coefficients  Fit Time  Log Loss  \n",
       "0  [17.55597877856017, 0.06572462854396002, 3.044...  0.015363  1.328445  \n",
       "1  [-0.9485662786995305, -1.026466521788334, -0.8...  0.038945  0.021394  "
      ]
     },
     "metadata": {},
     "output_type": "display_data"
    }
   ],
   "source": [
    "# convert list of dicts into DataFrame\n",
    "perf_table = pd.DataFrame(performance_metrics)\n",
    "\n",
    "# show table\n",
    "print(perf_table)\n",
    "\n",
    "# if you want a nicer display in Jupyter\n",
    "from IPython.display import display\n",
    "display(perf_table)\n"
   ]
  },
  {
   "cell_type": "markdown",
   "id": "a0b02d96",
   "metadata": {},
   "source": [
    "Analyzing and Comparing Performance - Confusion matrix, Accuracy,  Precision, Recall, and ROC curve"
   ]
  },
  {
   "cell_type": "code",
   "execution_count": 237,
   "id": "89cddfbf",
   "metadata": {},
   "outputs": [],
   "source": [
    "# Confusion matrix\n",
    "cm_manual = confusion_matrix(y_test, y_pred_gd)\n",
    "cm_sklearn = confusion_matrix(y_test, y_pred_clf)\n",
    "\n",
    "# Accuracy\n",
    "acc_manual = accuracy_score(y_test, y_pred_gd)\n",
    "acc_sklearn = accuracy_score(y_test, y_pred_clf)\n",
    "\n",
    "# Precision\n",
    "prec_manual = precision_score(y_test, y_pred_gd)\n",
    "prec_sklearn = precision_score(y_test, y_pred_clf)\n",
    "\n",
    "# Recall\n",
    "recall_manual = recall_score(y_test, y_pred_gd)\n",
    "recall_sklearn = recall_score(y_test, y_pred_clf)\n"
   ]
  },
  {
   "cell_type": "code",
   "execution_count": 239,
   "id": "2bb9e151",
   "metadata": {},
   "outputs": [
    {
     "data": {
      "image/png": "[encoded data removed]",
      "text/plain": [
       "<Figure size 600x600 with 1 Axes>"
      ]
     },
     "metadata": {},
     "output_type": "display_data"
    }
   ],
   "source": [
    "# ROC curve values (use y_test instead of y)\n",
    "fpr_manual, tpr_manual, _ = roc_curve(y_test, y_pred_probabilites)\n",
    "fpr_sklearn, tpr_sklearn, _ = roc_curve(y_test, y_pred_prob_clf[:, 1])  # positive class only\n",
    "\n",
    "# AUC\n",
    "roc_auc_manual = auc(fpr_manual, tpr_manual)\n",
    "roc_auc_sklearn = auc(fpr_sklearn, tpr_sklearn)\n",
    "\n",
    "# Plotting ROC curves\n",
    "plt.figure(figsize=(6,6))\n",
    "plt.plot(fpr_manual, tpr_manual, label=f'Manual (AUC = {roc_auc_manual:.3f})')\n",
    "plt.plot(fpr_sklearn, tpr_sklearn, label=f'Scikit (AUC = {roc_auc_sklearn:.3f})')\n",
    "plt.plot([0,1], [0,1], 'k--')  # baseline\n",
    "plt.xlabel(\"False Positive Rate\")\n",
    "plt.ylabel(\"True Positive Rate\")\n",
    "plt.title(\"ROC Curve\")\n",
    "plt.legend()\n",
    "plt.show()\n"
   ]
  },
  {
   "cell_type": "code",
   "execution_count": 240,
   "id": "a162d04a",
   "metadata": {},
   "outputs": [
    {
     "name": "stdout",
     "output_type": "stream",
     "text": [
      "Manual Logistic Regression\n",
      "Confusion Matrix:\n",
      " [[11  1]\n",
      " [ 0 14]]\n",
      "Accuracy: 0.962\n",
      "Precision: 0.933\n",
      "Recall: 1.000\n",
      "\n",
      "Scikit-learn Logistic Regression\n",
      "Confusion Matrix:\n",
      " [[12  0]\n",
      " [ 0 14]]\n",
      "Accuracy: 1.000\n",
      "Precision: 1.000\n",
      "Recall: 1.000\n"
     ]
    }
   ],
   "source": [
    "print(\"Manual Logistic Regression\")\n",
    "print(\"Confusion Matrix:\\n\", cm_manual)\n",
    "print(f\"Accuracy: {acc_manual:.3f}\")\n",
    "print(f\"Precision: {prec_manual:.3f}\")\n",
    "print(f\"Recall: {recall_manual:.3f}\")\n",
    "\n",
    "print(\"\\nScikit-learn Logistic Regression\")\n",
    "print(\"Confusion Matrix:\\n\", cm_sklearn)\n",
    "print(f\"Accuracy: {acc_sklearn:.3f}\")\n",
    "print(f\"Precision: {prec_sklearn:.3f}\")\n",
    "print(f\"Recall: {recall_sklearn:.3f}\")"
   ]
  },
  {
   "cell_type": "markdown",
   "id": "87742fbe",
   "metadata": {},
   "source": [
    "The Sklearn model performs better than the model i created. the sklearn model correctly identifies every instance."
   ]
  },
  {
   "cell_type": "markdown",
   "id": "7e23cdf5",
   "metadata": {},
   "source": []
  },
  {
   "cell_type": "markdown",
   "id": "75104b4b",
   "metadata": {},
   "source": []
  }
 ],
 "metadata": {
  "kernelspec": {
   "display_name": "Python 3",
   "language": "python",
   "name": "python3"
  },
  "language_info": {
   "codemirror_mode": {
    "name": "ipython",
    "version": 3
   },
   "file_extension": ".py",
   "mimetype": "text/x-python",
   "name": "python",
   "nbconvert_exporter": "python",
   "pygments_lexer": "ipython3",
   "version": "3.13.0"
  }
 },
 "nbformat": 4,
 "nbformat_minor": 5
}
