{
 "cells": [
  {
   "cell_type": "markdown",
   "id": "33809758",
   "metadata": {},
   "source": [
    "Libraries"
   ]
  },
  {
   "cell_type": "code",
   "execution_count": null,
   "id": "7e0ac2e0",
   "metadata": {},
   "outputs": [],
   "source": [
    "import matplotlib.pyplot as plt\n",
    "import pandas as pd\n",
    "import seaborn as sns"
   ]
  },
  {
   "cell_type": "markdown",
   "id": "d71227fe",
   "metadata": {},
   "source": [
    "Bringing Data In"
   ]
  },
  {
   "cell_type": "markdown",
   "id": "982cc065",
   "metadata": {},
   "source": [
    "Analyzing model performance"
   ]
  },
  {
   "cell_type": "markdown",
   "id": "ce5615f2",
   "metadata": {},
   "source": [
    "intercept"
   ]
  },
  {
   "cell_type": "code",
   "execution_count": null,
   "id": "473124ec",
   "metadata": {},
   "outputs": [],
   "source": [
    "# Intercepts\n",
    "plt.figure(figsize=(6, 4))\n",
    "plt.bar(df_performance_metrics[\"Model\"], df_performance_metrics[\"Intercept\"])\n",
    "plt.title(\"Model Intercepts Comparison\")\n",
    "plt.ylabel(\"Intercept\")\n",
    "plt.show()"
   ]
  },
  {
   "cell_type": "markdown",
   "id": "e44db084",
   "metadata": {},
   "source": [
    "coefficient"
   ]
  },
  {
   "cell_type": "code",
   "execution_count": null,
   "id": "4948035f",
   "metadata": {},
   "outputs": [],
   "source": [
    "# Coefficients (stacked bar for multiple features)\n",
    "coef_df = pd.DataFrame(\n",
    "    df_performance_metrics[\"Coefficients\"].tolist(),\n",
    "    index=df_performance_metrics[\"Model\"],\n",
    "    columns=[f\"Feature {i}\" for i in range(X_scaled.shape[1])],\n",
    ")\n",
    "coef_df.plot(kind=\"bar\", figsize=(8, 5))\n",
    "plt.title(\"Model Coefficients Comparison\")\n",
    "plt.ylabel(\"Coefficient Value\")\n",
    "plt.show()"
   ]
  },
  {
   "cell_type": "code",
   "execution_count": null,
   "id": "7bfd4252",
   "metadata": {},
   "outputs": [],
   "source": [
    "coef_df = pd.DataFrame(\n",
    "    df_performance_metrics[\"Coefficients\"].tolist(),\n",
    "    index=df_performance_metrics[\"Model\"],\n",
    "    columns=[f\"Feature {i}\" for i in range(X_scaled.shape[1])],\n",
    ")\n",
    "\n",
    "plt.figure(figsize=(10, 4))\n",
    "sns.heatmap(coef_df, annot=True, cmap=\"coolwarm\", center=0)\n",
    "plt.title(\"Coefficient Heatmap Across Models\")\n",
    "plt.show()"
   ]
  },
  {
   "cell_type": "markdown",
   "id": "e8c54255",
   "metadata": {},
   "source": [
    "predictions"
   ]
  },
  {
   "cell_type": "code",
   "execution_count": null,
   "id": "d75b2a2e",
   "metadata": {},
   "outputs": [],
   "source": [
    "plt.figure(figsize=(6, 6))\n",
    "plt.scatter(y, y_pred_ne, label=\"Normal Equation\")\n",
    "plt.scatter(y, y_pred_gd, label=\"Gradient Descent\", alpha=0.7)\n",
    "plt.scatter(y, y_pred_sklearn, label=\"Scikit-learn\", alpha=0.7)\n",
    "plt.plot([min(y), max(y)], [min(y), max(y)], \"k--\", lw=2)  # 45 degree line\n",
    "plt.xlabel(\"True Values\")\n",
    "plt.ylabel(\"Predicted Values\")\n",
    "plt.title(\"Predicted vs True Values\")\n",
    "plt.legend()\n",
    "plt.show()"
   ]
  },
  {
   "cell_type": "code",
   "execution_count": null,
   "id": "ee7b433e",
   "metadata": {},
   "outputs": [],
   "source": [
    "plt.figure(figsize=(6, 4))\n",
    "plt.scatter(y_pred_ne, y - y_pred_ne, label=\"Normal Equation\")\n",
    "plt.scatter(y_pred_gd, y - y_pred_gd, label=\"Gradient Descent\", alpha=0.7)\n",
    "plt.scatter(y_pred_sklearn, y - y_pred_sklearn, label=\"Scikit-learn\", alpha=0.7)\n",
    "plt.hlines(y=0, xmin=min(y_pred_ne), xmax=max(y_pred_ne), colors=\"k\", linestyles=\"--\")\n",
    "plt.xlabel(\"Predicted Values\")\n",
    "plt.ylabel(\"Residuals\")\n",
    "plt.title(\"Residual Plot\")\n",
    "plt.legend()\n",
    "plt.show()"
   ]
  },
  {
   "cell_type": "markdown",
   "id": "2334970e",
   "metadata": {},
   "source": [
    "error"
   ]
  },
  {
   "cell_type": "code",
   "execution_count": null,
   "id": "da187423",
   "metadata": {},
   "outputs": [],
   "source": [
    "fig, ax = plt.subplots(1, 2, figsize=(12, 4))\n",
    "sns.barplot(x=\"Model\", y=\"R2\", data=df_performance_metrics, ax=ax[0])\n",
    "ax[0].set_title(\"R² Comparison\")\n",
    "ax[0].set_ylim(0, 1)\n",
    "\n",
    "sns.barplot(x=\"Model\", y=\"MSE\", data=df_performance_metrics, ax=ax[1])\n",
    "ax[1].set_title(\"Mean Squared Error Comparison\")\n",
    "plt.show()"
   ]
  },
  {
   "cell_type": "markdown",
   "id": "bc1ddfa8",
   "metadata": {},
   "source": [
    "plt.figure(figsize=(6, 4))\n",
    "sns.barplot(x=\"Model\", y=\"Fit Time\", data=df_performance_metrics)\n",
    "plt.title(\"Fit Time Comparison\")\n",
    "plt.ylabel(\"Time (seconds)\")\n",
    "plt.show()"
   ]
  },
  {
   "cell_type": "code",
   "execution_count": null,
   "id": "79f71a72",
   "metadata": {},
   "outputs": [],
   "source": [
    "# Assuming gd_lr \n",
    "plt.figure(figsize=(8,5))\n",
    "plt.plot(range(1, len(gd_lr.cost_history)+1), gd_lr.cost_history, marker='o')\n",
    "plt.xlabel(\"Epoch\")\n",
    "plt.ylabel(\"Cost (SSE)\")\n",
    "plt.title(\"Gradient Descent Cost History\")\n",
    "plt.grid(True)\n",
    "plt.show()\n"
   ]
  }
 ],
 "metadata": {
  "language_info": {
   "name": "python"
  }
 },
 "nbformat": 4,
 "nbformat_minor": 5
}
